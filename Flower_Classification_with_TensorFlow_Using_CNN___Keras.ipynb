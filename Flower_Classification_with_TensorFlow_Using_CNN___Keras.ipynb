{
  "nbformat": 4,
  "nbformat_minor": 0,
  "metadata": {
    "colab": {
      "name": "Flower_Classification_with_TensorFlow_Using_CNN___Keras.ipynb",
      "provenance": [],
      "collapsed_sections": [],
      "authorship_tag": "ABX9TyOAhvl+2st9V03isJXzMrVw",
      "include_colab_link": true
    },
    "kernelspec": {
      "name": "python3",
      "display_name": "Python 3"
    },
    "language_info": {
      "name": "python"
    },
    "accelerator": "TPU"
  },
  "cells": [
    {
      "cell_type": "markdown",
      "metadata": {
        "id": "view-in-github",
        "colab_type": "text"
      },
      "source": [
        "<a href=\"https://colab.research.google.com/github/robbi621/praktikum-ML_-036-_-004-/blob/maintenance/Flower_Classification_with_TensorFlow_Using_CNN___Keras.ipynb\" target=\"_parent\"><img src=\"https://colab.research.google.com/assets/colab-badge.svg\" alt=\"Open In Colab\"/></a>"
      ]
    },
    {
      "cell_type": "code",
      "metadata": {
        "id": "X5CyMUZKJlRM"
      },
      "source": [
        "import os"
      ],
      "execution_count": 1,
      "outputs": []
    },
    {
      "cell_type": "code",
      "metadata": {
        "id": "ig4_EBdBJ_9g",
        "colab": {
          "base_uri": "https://localhost:8080/"
        },
        "outputId": "a84a67ac-e513-4c98-9f7f-00a6152b4715"
      },
      "source": [
        "from google.colab import drive\n",
        "drive.mount('/content/drive')"
      ],
      "execution_count": 2,
      "outputs": [
        {
          "output_type": "stream",
          "name": "stdout",
          "text": [
            "Mounted at /content/drive\n"
          ]
        }
      ]
    },
    {
      "cell_type": "code",
      "metadata": {
        "id": "Oy8qvBGTtP0M"
      },
      "source": [
        "#import zipfile, os\n",
        "\n",
        "#local_zip = '/content/drive/MyDrive/budug asu/flowers'\n",
        "#zip_ref = zipfile.ZipFile(local_zip, 'r')\n",
        "#zip_ref.extractall('Dataset3')\n",
        "#zip_ref.close()"
      ],
      "execution_count": 5,
      "outputs": []
    },
    {
      "cell_type": "code",
      "metadata": {
        "id": "6KxmwsCPLlxg",
        "colab": {
          "base_uri": "https://localhost:8080/"
        },
        "outputId": "62f74ed8-1682-4edc-e741-a5a347289144"
      },
      "source": [
        "data_dir = '/content/drive/MyDrive/budug asu/flowers'\n",
        "print(os.listdir(data_dir))"
      ],
      "execution_count": 3,
      "outputs": [
        {
          "output_type": "stream",
          "name": "stdout",
          "text": [
            "['sunflower', 'rose', 'tulip', 'daisy', 'dandelion']\n"
          ]
        }
      ]
    },
    {
      "cell_type": "code",
      "metadata": {
        "id": "4F8h05soMUXf",
        "colab": {
          "base_uri": "https://localhost:8080/"
        },
        "outputId": "216571d7-3f3b-41c1-ba82-0a9ddb99f6d0"
      },
      "source": [
        "pip install split-folders"
      ],
      "execution_count": 4,
      "outputs": [
        {
          "output_type": "stream",
          "name": "stdout",
          "text": [
            "Collecting split-folders\n",
            "  Downloading split_folders-0.4.3-py3-none-any.whl (7.4 kB)\n",
            "Installing collected packages: split-folders\n",
            "Successfully installed split-folders-0.4.3\n"
          ]
        }
      ]
    },
    {
      "cell_type": "code",
      "metadata": {
        "id": "HgBVlUwEMaZV",
        "colab": {
          "base_uri": "https://localhost:8080/"
        },
        "outputId": "2679b5e1-7caf-4d3f-e34b-7e3f93f2145b"
      },
      "source": [
        "import splitfolders\n",
        "\n",
        "splitfolders.ratio('/content/drive/MyDrive/budug asu/flowers', output=\"Dataset2_split\", seed=42, ratio=(.80, .19, .01), group_prefix=None)"
      ],
      "execution_count": 5,
      "outputs": [
        {
          "output_type": "stream",
          "name": "stderr",
          "text": [
            "Copying files: 4253 files [18:10,  3.90 files/s]\n"
          ]
        }
      ]
    },
    {
      "cell_type": "code",
      "metadata": {
        "id": "cbykCYLmMswm"
      },
      "source": [
        "import os\n",
        "base_dir = 'Dataset2_split'"
      ],
      "execution_count": 6,
      "outputs": []
    },
    {
      "cell_type": "code",
      "metadata": {
        "id": "r2086TUrQCww"
      },
      "source": [
        "train_dir = os.path.join(base_dir, 'train')\n",
        "val_dir = os.path.join(base_dir, 'val')\n",
        "test_dir = os.path.join(base_dir, 'test')"
      ],
      "execution_count": 7,
      "outputs": []
    },
    {
      "cell_type": "code",
      "metadata": {
        "id": "14SuSVGqQQX5"
      },
      "source": [
        "train_sunflower = os.path.join(train_dir, 'sunflower')\n",
        "train_daisy = os.path.join(train_dir, 'daisy')\n",
        "train_rose = os.path.join(train_dir, 'rose')\n",
        "train_tulip = os.path.join(train_dir, 'tulip')\n",
        "train_dandelion = os.path.join(train_dir, 'dandelion')"
      ],
      "execution_count": 8,
      "outputs": []
    },
    {
      "cell_type": "code",
      "metadata": {
        "id": "A1XYDJiKQxll"
      },
      "source": [
        "val_sunflower = os.path.join(train_dir, 'sunflower')\n",
        "val_daisy = os.path.join(train_dir, 'daisy')\n",
        "val_rose = os.path.join(train_dir, 'rose')\n",
        "val_tulip = os.path.join(train_dir, 'tulip')\n",
        "val_dandelion = os.path.join(train_dir, 'dandelion')"
      ],
      "execution_count": 9,
      "outputs": []
    },
    {
      "cell_type": "code",
      "metadata": {
        "id": "x-yDF0lISOaD"
      },
      "source": [
        "test_sunflower = os.path.join(train_dir, 'sunflower')\n",
        "test_daisy = os.path.join(train_dir, 'daisy')\n",
        "test_rose = os.path.join(train_dir, 'rose')\n",
        "test_tulip = os.path.join(train_dir, 'tulip')\n",
        "test_dandelion = os.path.join(train_dir, 'dandelion')"
      ],
      "execution_count": 10,
      "outputs": []
    },
    {
      "cell_type": "code",
      "metadata": {
        "id": "YS8-TqOYSaK-",
        "colab": {
          "base_uri": "https://localhost:8080/"
        },
        "outputId": "a1f05172-0695-4082-a25d-c424d0819930"
      },
      "source": [
        "print('total training sunflower images:', len(os.listdir(train_sunflower)))\n",
        "print('total training daisy images:', len(os.listdir(train_daisy)))\n",
        "print('total training rose images:', len(os.listdir(train_rose)))\n",
        "print('total training tulip images:', len(os.listdir(train_tulip)))\n",
        "print('total training dandelion images:', len(os.listdir(train_dandelion)))"
      ],
      "execution_count": 11,
      "outputs": [
        {
          "output_type": "stream",
          "name": "stdout",
          "text": [
            "total training sunflower images: 585\n",
            "total training daisy images: 613\n",
            "total training rose images: 627\n",
            "total training tulip images: 764\n",
            "total training dandelion images: 812\n"
          ]
        }
      ]
    },
    {
      "cell_type": "code",
      "metadata": {
        "id": "cI5-uHScTHCL",
        "colab": {
          "base_uri": "https://localhost:8080/"
        },
        "outputId": "7535e63c-60d3-4540-d170-f685cbf57f4e"
      },
      "source": [
        "print('total validation sunflower images:', len(os.listdir(val_sunflower)))\n",
        "print('total validation daisy images:', len(os.listdir(val_daisy)))\n",
        "print('total validation rose images:', len(os.listdir(val_rose)))\n",
        "print('total validation tulip images:', len(os.listdir(val_tulip)))\n",
        "print('total validation dandelion images:', len(os.listdir(val_dandelion)))"
      ],
      "execution_count": 12,
      "outputs": [
        {
          "output_type": "stream",
          "name": "stdout",
          "text": [
            "total validation sunflower images: 585\n",
            "total validation daisy images: 613\n",
            "total validation rose images: 627\n",
            "total validation tulip images: 764\n",
            "total validation dandelion images: 812\n"
          ]
        }
      ]
    },
    {
      "cell_type": "code",
      "metadata": {
        "id": "RXWtC5TVTHry",
        "colab": {
          "base_uri": "https://localhost:8080/"
        },
        "outputId": "0e1b04cb-8979-416a-f66e-38b0453b4d01"
      },
      "source": [
        "print('total test sunflower images:', len(os.listdir(test_sunflower)))\n",
        "print('total test daisy images:', len(os.listdir(test_daisy)))\n",
        "print('total test rose images:', len(os.listdir(test_rose)))\n",
        "print('total test tulip images:', len(os.listdir(test_tulip)))\n",
        "print('total test dandelion images:', len(os.listdir(test_dandelion)))"
      ],
      "execution_count": 13,
      "outputs": [
        {
          "output_type": "stream",
          "name": "stdout",
          "text": [
            "total test sunflower images: 585\n",
            "total test daisy images: 613\n",
            "total test rose images: 627\n",
            "total test tulip images: 764\n",
            "total test dandelion images: 812\n"
          ]
        }
      ]
    },
    {
      "cell_type": "code",
      "metadata": {
        "id": "fDE-BUrLTpgT"
      },
      "source": [
        "from tensorflow.keras.preprocessing.image import ImageDataGenerator\n",
        "\n",
        "train_datagen = ImageDataGenerator(\n",
        "    rescale=1./225,\n",
        "    rotation_range=20,\n",
        "    horizontal_flip=True,\n",
        "    shear_range=0.2,\n",
        "    zoom_range=0.2,\n",
        ")\n",
        "\n",
        "val_datagen = ImageDataGenerator(\n",
        "    rescale=1./255\n",
        ")"
      ],
      "execution_count": 14,
      "outputs": []
    },
    {
      "cell_type": "code",
      "metadata": {
        "id": "e8VdiTs8TurE",
        "colab": {
          "base_uri": "https://localhost:8080/"
        },
        "outputId": "fd082be4-3c8f-465e-ee3e-a2320320f61a"
      },
      "source": [
        "train_generator = train_datagen.flow_from_directory(\n",
        "    train_dir,\n",
        "    target_size=(250,250),\n",
        "    batch_size=32,\n",
        "    class_mode='categorical',\n",
        "    color_mode='rgb',\n",
        "    shuffle=True\n",
        ")\n",
        "\n",
        "val_generator = val_datagen.flow_from_directory(\n",
        "    val_dir,\n",
        "    target_size=(250,250),\n",
        "    batch_size=32,\n",
        "    class_mode='categorical',\n",
        "    color_mode='rgb',\n",
        "    shuffle=True\n",
        ")\n",
        "\n",
        "test_generator = val_datagen.flow_from_directory(\n",
        "    test_dir,\n",
        "    target_size=(250,250),\n",
        "    batch_size=32,\n",
        "    class_mode='categorical',\n",
        "    color_mode='rgb',\n",
        "    shuffle=True\n",
        ")"
      ],
      "execution_count": 15,
      "outputs": [
        {
          "output_type": "stream",
          "name": "stdout",
          "text": [
            "Found 3399 images belonging to 5 classes.\n",
            "Found 804 images belonging to 5 classes.\n",
            "Found 47 images belonging to 5 classes.\n"
          ]
        }
      ]
    },
    {
      "cell_type": "code",
      "metadata": {
        "colab": {
          "base_uri": "https://localhost:8080/"
        },
        "id": "kAUikEcS4Mm1",
        "outputId": "a12c9bf6-773d-439f-84d3-4c2efefb21cf"
      },
      "source": [
        "train_generator.class_indices"
      ],
      "execution_count": 16,
      "outputs": [
        {
          "output_type": "execute_result",
          "data": {
            "text/plain": [
              "{'daisy': 0, 'dandelion': 1, 'rose': 2, 'sunflower': 3, 'tulip': 4}"
            ]
          },
          "metadata": {},
          "execution_count": 16
        }
      ]
    },
    {
      "cell_type": "code",
      "metadata": {
        "id": "6QH_1G45T-lA",
        "colab": {
          "base_uri": "https://localhost:8080/"
        },
        "outputId": "4c154712-5087-4c6c-dd07-2a18424c7835"
      },
      "source": [
        "import tensorflow as tf\n",
        "from tensorflow.keras.models import Sequential\n",
        "from tensorflow.keras.layers import Dense, Dropout, Conv2D, Activation, Flatten, MaxPool2D, BatchNormalization\n",
        "from tensorflow.keras.optimizers import Adam, RMSprop\n",
        "\n",
        "model1 = Sequential([\n",
        "                     Conv2D(32, kernel_size=3, activation='relu', input_shape=(250, 250, 3)),\n",
        "                     MaxPool2D(2,2),\n",
        "\n",
        "                     Conv2D(64, kernel_size=3, activation='relu'),\n",
        "                     MaxPool2D(2,2),\n",
        "                     BatchNormalization(),\n",
        "\n",
        "                     Conv2D(128, kernel_size=3, activation='relu'),\n",
        "                     MaxPool2D(2,2),\n",
        "\n",
        "                     Conv2D(256, kernel_size=3, activation='relu'),\n",
        "                     MaxPool2D(2,2),\n",
        "\n",
        "                     Dropout(0.25),\n",
        "\n",
        "                     Flatten(),\n",
        "\n",
        "                     Dense(128, activation='relu'),\n",
        "                     Dense(5, activation='softmax')\n",
        "])\n",
        "\n",
        "model1.summary()"
      ],
      "execution_count": 17,
      "outputs": [
        {
          "output_type": "stream",
          "name": "stdout",
          "text": [
            "Model: \"sequential\"\n",
            "_________________________________________________________________\n",
            " Layer (type)                Output Shape              Param #   \n",
            "=================================================================\n",
            " conv2d (Conv2D)             (None, 248, 248, 32)      896       \n",
            "                                                                 \n",
            " max_pooling2d (MaxPooling2D  (None, 124, 124, 32)     0         \n",
            " )                                                               \n",
            "                                                                 \n",
            " conv2d_1 (Conv2D)           (None, 122, 122, 64)      18496     \n",
            "                                                                 \n",
            " max_pooling2d_1 (MaxPooling  (None, 61, 61, 64)       0         \n",
            " 2D)                                                             \n",
            "                                                                 \n",
            " batch_normalization (BatchN  (None, 61, 61, 64)       256       \n",
            " ormalization)                                                   \n",
            "                                                                 \n",
            " conv2d_2 (Conv2D)           (None, 59, 59, 128)       73856     \n",
            "                                                                 \n",
            " max_pooling2d_2 (MaxPooling  (None, 29, 29, 128)      0         \n",
            " 2D)                                                             \n",
            "                                                                 \n",
            " conv2d_3 (Conv2D)           (None, 27, 27, 256)       295168    \n",
            "                                                                 \n",
            " max_pooling2d_3 (MaxPooling  (None, 13, 13, 256)      0         \n",
            " 2D)                                                             \n",
            "                                                                 \n",
            " dropout (Dropout)           (None, 13, 13, 256)       0         \n",
            "                                                                 \n",
            " flatten (Flatten)           (None, 43264)             0         \n",
            "                                                                 \n",
            " dense (Dense)               (None, 128)               5537920   \n",
            "                                                                 \n",
            " dense_1 (Dense)             (None, 5)                 645       \n",
            "                                                                 \n",
            "=================================================================\n",
            "Total params: 5,927,237\n",
            "Trainable params: 5,927,109\n",
            "Non-trainable params: 128\n",
            "_________________________________________________________________\n"
          ]
        }
      ]
    },
    {
      "cell_type": "code",
      "metadata": {
        "id": "gjA_uiFKUGA5"
      },
      "source": [
        "model1.compile(loss='categorical_crossentropy',\n",
        "              optimizer=Adam(learning_rate=0.0001),\n",
        "              metrics=['accuracy'])"
      ],
      "execution_count": 18,
      "outputs": []
    },
    {
      "cell_type": "code",
      "metadata": {
        "id": "p8dRkIZvUO_T",
        "colab": {
          "base_uri": "https://localhost:8080/"
        },
        "outputId": "5dd2d49d-e478-4ebd-bd53-9735d087f4ed"
      },
      "source": [
        "import time\n",
        "\n",
        "start=time.time()\n",
        "history = model1.fit(train_generator,\n",
        "          epochs=100,\n",
        "          steps_per_epoch=10,\n",
        "          validation_data=val_generator,\n",
        "          verbose=1)"
      ],
      "execution_count": 19,
      "outputs": [
        {
          "output_type": "stream",
          "name": "stdout",
          "text": [
            "Epoch 1/100\n",
            "10/10 [==============================] - 87s 9s/step - loss: 1.9644 - accuracy: 0.2250 - val_loss: 1.6013 - val_accuracy: 0.2600\n",
            "Epoch 2/100\n",
            "10/10 [==============================] - 83s 9s/step - loss: 1.5052 - accuracy: 0.3469 - val_loss: 1.5933 - val_accuracy: 0.2774\n",
            "Epoch 3/100\n",
            "10/10 [==============================] - 80s 8s/step - loss: 1.3793 - accuracy: 0.4156 - val_loss: 1.5799 - val_accuracy: 0.3545\n",
            "Epoch 4/100\n",
            "10/10 [==============================] - 80s 8s/step - loss: 1.3227 - accuracy: 0.4187 - val_loss: 1.5597 - val_accuracy: 0.4577\n",
            "Epoch 5/100\n",
            "10/10 [==============================] - 80s 8s/step - loss: 1.2429 - accuracy: 0.4531 - val_loss: 1.5491 - val_accuracy: 0.4204\n",
            "Epoch 6/100\n",
            "10/10 [==============================] - 80s 8s/step - loss: 1.2221 - accuracy: 0.4906 - val_loss: 1.5320 - val_accuracy: 0.5075\n",
            "Epoch 7/100\n",
            "10/10 [==============================] - 76s 8s/step - loss: 1.1810 - accuracy: 0.5051 - val_loss: 1.5282 - val_accuracy: 0.4328\n",
            "Epoch 8/100\n",
            "10/10 [==============================] - 80s 8s/step - loss: 1.1364 - accuracy: 0.5312 - val_loss: 1.5105 - val_accuracy: 0.4950\n",
            "Epoch 9/100\n",
            "10/10 [==============================] - 80s 8s/step - loss: 1.0574 - accuracy: 0.6000 - val_loss: 1.5009 - val_accuracy: 0.4851\n",
            "Epoch 10/100\n",
            "10/10 [==============================] - 80s 8s/step - loss: 1.0388 - accuracy: 0.5781 - val_loss: 1.4843 - val_accuracy: 0.5236\n",
            "Epoch 11/100\n",
            "10/10 [==============================] - 80s 8s/step - loss: 1.0092 - accuracy: 0.5656 - val_loss: 1.4821 - val_accuracy: 0.4565\n",
            "Epoch 12/100\n",
            "10/10 [==============================] - 76s 8s/step - loss: 1.1176 - accuracy: 0.5322 - val_loss: 1.4818 - val_accuracy: 0.5697\n",
            "Epoch 13/100\n",
            "10/10 [==============================] - 79s 8s/step - loss: 1.0451 - accuracy: 0.6000 - val_loss: 1.4725 - val_accuracy: 0.5187\n",
            "Epoch 14/100\n",
            "10/10 [==============================] - 79s 8s/step - loss: 1.0184 - accuracy: 0.6000 - val_loss: 1.4578 - val_accuracy: 0.5622\n",
            "Epoch 15/100\n",
            "10/10 [==============================] - 79s 8s/step - loss: 0.9838 - accuracy: 0.5969 - val_loss: 1.4466 - val_accuracy: 0.5361\n",
            "Epoch 16/100\n",
            "10/10 [==============================] - 79s 8s/step - loss: 0.9700 - accuracy: 0.6187 - val_loss: 1.4325 - val_accuracy: 0.5547\n",
            "Epoch 17/100\n",
            "10/10 [==============================] - 79s 8s/step - loss: 1.0434 - accuracy: 0.5813 - val_loss: 1.4162 - val_accuracy: 0.5572\n",
            "Epoch 18/100\n",
            "10/10 [==============================] - 79s 8s/step - loss: 1.0052 - accuracy: 0.6062 - val_loss: 1.4301 - val_accuracy: 0.5522\n",
            "Epoch 19/100\n",
            "10/10 [==============================] - 79s 8s/step - loss: 0.8589 - accuracy: 0.6531 - val_loss: 1.3736 - val_accuracy: 0.5883\n",
            "Epoch 20/100\n",
            "10/10 [==============================] - 79s 8s/step - loss: 1.0112 - accuracy: 0.6156 - val_loss: 1.3755 - val_accuracy: 0.5958\n",
            "Epoch 21/100\n",
            "10/10 [==============================] - 79s 8s/step - loss: 1.0242 - accuracy: 0.5875 - val_loss: 1.4072 - val_accuracy: 0.5174\n",
            "Epoch 22/100\n",
            "10/10 [==============================] - 79s 8s/step - loss: 0.9856 - accuracy: 0.6062 - val_loss: 1.3715 - val_accuracy: 0.6318\n",
            "Epoch 23/100\n",
            "10/10 [==============================] - 80s 8s/step - loss: 0.9151 - accuracy: 0.6531 - val_loss: 1.3520 - val_accuracy: 0.5958\n",
            "Epoch 24/100\n",
            "10/10 [==============================] - 80s 8s/step - loss: 0.8800 - accuracy: 0.6594 - val_loss: 1.3161 - val_accuracy: 0.5958\n",
            "Epoch 25/100\n",
            "10/10 [==============================] - 80s 8s/step - loss: 0.8509 - accuracy: 0.6812 - val_loss: 1.3147 - val_accuracy: 0.6020\n",
            "Epoch 26/100\n",
            "10/10 [==============================] - 80s 8s/step - loss: 0.9219 - accuracy: 0.6125 - val_loss: 1.2981 - val_accuracy: 0.6070\n",
            "Epoch 27/100\n",
            "10/10 [==============================] - 80s 8s/step - loss: 0.8586 - accuracy: 0.6500 - val_loss: 1.2895 - val_accuracy: 0.5908\n",
            "Epoch 28/100\n",
            "10/10 [==============================] - 80s 8s/step - loss: 0.9577 - accuracy: 0.6000 - val_loss: 1.2837 - val_accuracy: 0.6082\n",
            "Epoch 29/100\n",
            "10/10 [==============================] - 76s 8s/step - loss: 0.8430 - accuracy: 0.6508 - val_loss: 1.2690 - val_accuracy: 0.5970\n",
            "Epoch 30/100\n",
            "10/10 [==============================] - 80s 8s/step - loss: 0.8415 - accuracy: 0.6500 - val_loss: 1.2740 - val_accuracy: 0.5734\n",
            "Epoch 31/100\n",
            "10/10 [==============================] - 80s 8s/step - loss: 0.9011 - accuracy: 0.6438 - val_loss: 1.2557 - val_accuracy: 0.6070\n",
            "Epoch 32/100\n",
            "10/10 [==============================] - 80s 8s/step - loss: 0.8230 - accuracy: 0.7000 - val_loss: 1.2060 - val_accuracy: 0.6368\n",
            "Epoch 33/100\n",
            "10/10 [==============================] - 76s 8s/step - loss: 0.8032 - accuracy: 0.7085 - val_loss: 1.2428 - val_accuracy: 0.6045\n",
            "Epoch 34/100\n",
            "10/10 [==============================] - 80s 8s/step - loss: 0.8453 - accuracy: 0.6625 - val_loss: 1.1886 - val_accuracy: 0.6194\n",
            "Epoch 35/100\n",
            "10/10 [==============================] - 80s 8s/step - loss: 0.8289 - accuracy: 0.6844 - val_loss: 1.1526 - val_accuracy: 0.6144\n",
            "Epoch 36/100\n",
            "10/10 [==============================] - 79s 8s/step - loss: 0.8948 - accuracy: 0.6594 - val_loss: 1.1338 - val_accuracy: 0.6517\n",
            "Epoch 37/100\n",
            "10/10 [==============================] - 80s 8s/step - loss: 0.8020 - accuracy: 0.7000 - val_loss: 1.1768 - val_accuracy: 0.5659\n",
            "Epoch 38/100\n",
            "10/10 [==============================] - 79s 8s/step - loss: 0.8516 - accuracy: 0.6750 - val_loss: 1.1150 - val_accuracy: 0.6555\n",
            "Epoch 39/100\n",
            "10/10 [==============================] - 79s 8s/step - loss: 0.8900 - accuracy: 0.6562 - val_loss: 1.0912 - val_accuracy: 0.6244\n",
            "Epoch 40/100\n",
            "10/10 [==============================] - 79s 8s/step - loss: 0.7511 - accuracy: 0.6812 - val_loss: 1.1418 - val_accuracy: 0.6294\n",
            "Epoch 41/100\n",
            "10/10 [==============================] - 80s 8s/step - loss: 0.7655 - accuracy: 0.7125 - val_loss: 1.0410 - val_accuracy: 0.6766\n",
            "Epoch 42/100\n",
            "10/10 [==============================] - 79s 8s/step - loss: 0.8587 - accuracy: 0.6406 - val_loss: 1.0753 - val_accuracy: 0.6269\n",
            "Epoch 43/100\n",
            "10/10 [==============================] - 79s 8s/step - loss: 0.8064 - accuracy: 0.7156 - val_loss: 1.0146 - val_accuracy: 0.6729\n",
            "Epoch 44/100\n",
            "10/10 [==============================] - 79s 8s/step - loss: 0.7881 - accuracy: 0.7063 - val_loss: 1.0446 - val_accuracy: 0.6480\n",
            "Epoch 45/100\n",
            "10/10 [==============================] - 79s 8s/step - loss: 0.7357 - accuracy: 0.7469 - val_loss: 1.0126 - val_accuracy: 0.6791\n",
            "Epoch 46/100\n",
            "10/10 [==============================] - 79s 8s/step - loss: 0.7933 - accuracy: 0.7125 - val_loss: 0.9833 - val_accuracy: 0.6729\n",
            "Epoch 47/100\n",
            "10/10 [==============================] - 79s 8s/step - loss: 0.7213 - accuracy: 0.7250 - val_loss: 0.9271 - val_accuracy: 0.6741\n",
            "Epoch 48/100\n",
            "10/10 [==============================] - 79s 8s/step - loss: 0.7455 - accuracy: 0.7281 - val_loss: 0.9257 - val_accuracy: 0.6891\n",
            "Epoch 49/100\n",
            "10/10 [==============================] - 76s 8s/step - loss: 0.7583 - accuracy: 0.7254 - val_loss: 0.9677 - val_accuracy: 0.6405\n",
            "Epoch 50/100\n",
            "10/10 [==============================] - 79s 8s/step - loss: 0.7318 - accuracy: 0.7156 - val_loss: 0.9848 - val_accuracy: 0.6169\n",
            "Epoch 51/100\n",
            "10/10 [==============================] - 80s 8s/step - loss: 0.7600 - accuracy: 0.6844 - val_loss: 0.9542 - val_accuracy: 0.6505\n",
            "Epoch 52/100\n",
            "10/10 [==============================] - 80s 8s/step - loss: 0.8391 - accuracy: 0.6938 - val_loss: 0.9626 - val_accuracy: 0.6356\n",
            "Epoch 53/100\n",
            "10/10 [==============================] - 80s 8s/step - loss: 0.6870 - accuracy: 0.7375 - val_loss: 0.9277 - val_accuracy: 0.6480\n",
            "Epoch 54/100\n",
            "10/10 [==============================] - 80s 8s/step - loss: 0.6931 - accuracy: 0.7375 - val_loss: 0.9343 - val_accuracy: 0.6256\n",
            "Epoch 55/100\n",
            "10/10 [==============================] - 80s 8s/step - loss: 0.7237 - accuracy: 0.7219 - val_loss: 0.9211 - val_accuracy: 0.6766\n",
            "Epoch 56/100\n",
            "10/10 [==============================] - 79s 8s/step - loss: 0.7366 - accuracy: 0.7344 - val_loss: 0.8902 - val_accuracy: 0.6716\n",
            "Epoch 57/100\n",
            "10/10 [==============================] - 81s 8s/step - loss: 0.6993 - accuracy: 0.7156 - val_loss: 0.8875 - val_accuracy: 0.6617\n",
            "Epoch 58/100\n",
            "10/10 [==============================] - 80s 8s/step - loss: 0.7382 - accuracy: 0.7094 - val_loss: 0.8556 - val_accuracy: 0.6779\n",
            "Epoch 59/100\n",
            "10/10 [==============================] - 79s 8s/step - loss: 0.6857 - accuracy: 0.7406 - val_loss: 0.8384 - val_accuracy: 0.6965\n",
            "Epoch 60/100\n",
            "10/10 [==============================] - 80s 8s/step - loss: 0.7409 - accuracy: 0.6812 - val_loss: 0.8741 - val_accuracy: 0.6866\n",
            "Epoch 61/100\n",
            "10/10 [==============================] - 80s 8s/step - loss: 0.6680 - accuracy: 0.7531 - val_loss: 0.8474 - val_accuracy: 0.6853\n",
            "Epoch 62/100\n",
            "10/10 [==============================] - 80s 8s/step - loss: 0.7728 - accuracy: 0.6906 - val_loss: 1.0269 - val_accuracy: 0.5908\n",
            "Epoch 63/100\n",
            "10/10 [==============================] - 79s 8s/step - loss: 0.8045 - accuracy: 0.6938 - val_loss: 0.8323 - val_accuracy: 0.7065\n",
            "Epoch 64/100\n",
            "10/10 [==============================] - 80s 8s/step - loss: 0.7270 - accuracy: 0.7281 - val_loss: 0.9169 - val_accuracy: 0.6468\n",
            "Epoch 65/100\n",
            "10/10 [==============================] - 80s 8s/step - loss: 0.7187 - accuracy: 0.7281 - val_loss: 0.7954 - val_accuracy: 0.7102\n",
            "Epoch 66/100\n",
            "10/10 [==============================] - 80s 8s/step - loss: 0.6778 - accuracy: 0.7531 - val_loss: 0.7927 - val_accuracy: 0.7040\n",
            "Epoch 67/100\n",
            "10/10 [==============================] - 80s 8s/step - loss: 0.7554 - accuracy: 0.7281 - val_loss: 0.8431 - val_accuracy: 0.6716\n",
            "Epoch 68/100\n",
            "10/10 [==============================] - 80s 8s/step - loss: 0.7314 - accuracy: 0.7063 - val_loss: 0.7986 - val_accuracy: 0.7027\n",
            "Epoch 69/100\n",
            "10/10 [==============================] - 79s 8s/step - loss: 0.7973 - accuracy: 0.7344 - val_loss: 0.8132 - val_accuracy: 0.6816\n",
            "Epoch 70/100\n",
            "10/10 [==============================] - 79s 8s/step - loss: 0.7103 - accuracy: 0.7219 - val_loss: 0.8273 - val_accuracy: 0.7015\n",
            "Epoch 71/100\n",
            "10/10 [==============================] - 79s 8s/step - loss: 0.6608 - accuracy: 0.7625 - val_loss: 0.7825 - val_accuracy: 0.7102\n",
            "Epoch 72/100\n",
            "10/10 [==============================] - 80s 8s/step - loss: 0.6864 - accuracy: 0.7375 - val_loss: 0.7654 - val_accuracy: 0.7152\n",
            "Epoch 73/100\n",
            "10/10 [==============================] - 76s 8s/step - loss: 0.6560 - accuracy: 0.7288 - val_loss: 0.8165 - val_accuracy: 0.6841\n",
            "Epoch 74/100\n",
            "10/10 [==============================] - 79s 8s/step - loss: 0.6994 - accuracy: 0.7219 - val_loss: 0.7956 - val_accuracy: 0.6766\n",
            "Epoch 75/100\n",
            "10/10 [==============================] - 80s 8s/step - loss: 0.6791 - accuracy: 0.7312 - val_loss: 0.7671 - val_accuracy: 0.7139\n",
            "Epoch 76/100\n",
            "10/10 [==============================] - 80s 8s/step - loss: 0.6738 - accuracy: 0.7469 - val_loss: 0.7552 - val_accuracy: 0.7040\n",
            "Epoch 77/100\n",
            "10/10 [==============================] - 76s 8s/step - loss: 0.6801 - accuracy: 0.7390 - val_loss: 0.7284 - val_accuracy: 0.7363\n",
            "Epoch 78/100\n",
            "10/10 [==============================] - 80s 8s/step - loss: 0.6818 - accuracy: 0.7563 - val_loss: 0.7607 - val_accuracy: 0.7139\n",
            "Epoch 79/100\n",
            "10/10 [==============================] - 80s 8s/step - loss: 0.6268 - accuracy: 0.7656 - val_loss: 0.7298 - val_accuracy: 0.7239\n",
            "Epoch 80/100\n",
            "10/10 [==============================] - 80s 8s/step - loss: 0.5822 - accuracy: 0.7750 - val_loss: 0.7390 - val_accuracy: 0.7214\n",
            "Epoch 81/100\n",
            "10/10 [==============================] - 79s 8s/step - loss: 0.5563 - accuracy: 0.7844 - val_loss: 0.7676 - val_accuracy: 0.7065\n",
            "Epoch 82/100\n",
            "10/10 [==============================] - 80s 8s/step - loss: 0.5888 - accuracy: 0.7531 - val_loss: 0.8278 - val_accuracy: 0.6928\n",
            "Epoch 83/100\n",
            "10/10 [==============================] - 79s 8s/step - loss: 0.5865 - accuracy: 0.7656 - val_loss: 0.7760 - val_accuracy: 0.6891\n",
            "Epoch 84/100\n",
            "10/10 [==============================] - 76s 8s/step - loss: 0.8009 - accuracy: 0.7085 - val_loss: 0.7745 - val_accuracy: 0.6891\n",
            "Epoch 85/100\n",
            "10/10 [==============================] - 80s 8s/step - loss: 0.6239 - accuracy: 0.7625 - val_loss: 0.7417 - val_accuracy: 0.7214\n",
            "Epoch 86/100\n",
            "10/10 [==============================] - 80s 8s/step - loss: 0.6387 - accuracy: 0.7594 - val_loss: 0.8135 - val_accuracy: 0.6953\n",
            "Epoch 87/100\n",
            "10/10 [==============================] - 80s 8s/step - loss: 0.5312 - accuracy: 0.7969 - val_loss: 0.7445 - val_accuracy: 0.7077\n",
            "Epoch 88/100\n",
            "10/10 [==============================] - 80s 8s/step - loss: 0.6212 - accuracy: 0.7406 - val_loss: 0.7098 - val_accuracy: 0.7289\n",
            "Epoch 89/100\n",
            "10/10 [==============================] - 80s 8s/step - loss: 0.6210 - accuracy: 0.7469 - val_loss: 0.7344 - val_accuracy: 0.7289\n",
            "Epoch 90/100\n",
            "10/10 [==============================] - 76s 8s/step - loss: 0.6049 - accuracy: 0.7729 - val_loss: 0.8217 - val_accuracy: 0.6878\n",
            "Epoch 91/100\n",
            "10/10 [==============================] - 80s 8s/step - loss: 0.6442 - accuracy: 0.7719 - val_loss: 0.8208 - val_accuracy: 0.7040\n",
            "Epoch 92/100\n",
            "10/10 [==============================] - 76s 8s/step - loss: 0.5562 - accuracy: 0.7797 - val_loss: 0.7464 - val_accuracy: 0.7077\n",
            "Epoch 93/100\n",
            "10/10 [==============================] - 80s 8s/step - loss: 0.6868 - accuracy: 0.7188 - val_loss: 0.7579 - val_accuracy: 0.6965\n",
            "Epoch 94/100\n",
            "10/10 [==============================] - 80s 8s/step - loss: 0.6233 - accuracy: 0.7719 - val_loss: 0.7293 - val_accuracy: 0.7289\n",
            "Epoch 95/100\n",
            "10/10 [==============================] - 80s 8s/step - loss: 0.6288 - accuracy: 0.7844 - val_loss: 0.6936 - val_accuracy: 0.7313\n",
            "Epoch 96/100\n",
            "10/10 [==============================] - 80s 8s/step - loss: 0.5982 - accuracy: 0.7781 - val_loss: 0.6816 - val_accuracy: 0.7500\n",
            "Epoch 97/100\n",
            "10/10 [==============================] - 80s 8s/step - loss: 0.5731 - accuracy: 0.8031 - val_loss: 0.7344 - val_accuracy: 0.7338\n",
            "Epoch 98/100\n",
            "10/10 [==============================] - 76s 8s/step - loss: 0.5301 - accuracy: 0.8102 - val_loss: 0.8081 - val_accuracy: 0.7077\n",
            "Epoch 99/100\n",
            "10/10 [==============================] - 80s 8s/step - loss: 0.5745 - accuracy: 0.7594 - val_loss: 0.7297 - val_accuracy: 0.7351\n",
            "Epoch 100/100\n",
            "10/10 [==============================] - 80s 8s/step - loss: 0.6212 - accuracy: 0.7563 - val_loss: 0.7983 - val_accuracy: 0.6841\n"
          ]
        }
      ]
    },
    {
      "cell_type": "code",
      "metadata": {
        "colab": {
          "base_uri": "https://localhost:8080/"
        },
        "id": "cEvfrQKGOLSZ",
        "outputId": "8873f78f-a29a-4188-ec28-163932283227"
      },
      "source": [
        "score = model1.evaluate(train_generator)\n",
        "\n",
        "print('Loss: {:.2f}'.format(score[0]))\n",
        "print('Accuracy: {:.2f}'.format(score[1]))"
      ],
      "execution_count": 20,
      "outputs": [
        {
          "output_type": "stream",
          "name": "stdout",
          "text": [
            "107/107 [==============================] - 165s 2s/step - loss: 0.7577 - accuracy: 0.7276\n",
            "Loss: 0.76\n",
            "Accuracy: 0.73\n"
          ]
        }
      ]
    },
    {
      "cell_type": "code",
      "metadata": {
        "colab": {
          "base_uri": "https://localhost:8080/"
        },
        "id": "Ue60K2g3OPK7",
        "outputId": "77235c66-b798-46f5-9c0c-f36850a2a72e"
      },
      "source": [
        "score = model1.evaluate(val_generator)\n",
        "\n",
        "print('Loss: {:.2f}'.format(score[0]))\n",
        "print('Accuracy: {:.2f}'.format(score[1]))"
      ],
      "execution_count": 21,
      "outputs": [
        {
          "output_type": "stream",
          "name": "stdout",
          "text": [
            "26/26 [==============================] - 31s 1s/step - loss: 0.7983 - accuracy: 0.6841\n",
            "Loss: 0.80\n",
            "Accuracy: 0.68\n"
          ]
        }
      ]
    },
    {
      "cell_type": "code",
      "metadata": {
        "colab": {
          "base_uri": "https://localhost:8080/",
          "height": 462
        },
        "id": "fGGvejEeOYuT",
        "outputId": "515f6d03-7b95-40c8-e55c-67d1c86aa027"
      },
      "source": [
        "import matplotlib.pyplot as plt\n",
        "%matplotlib inline\n",
        "\n",
        "plt.style.use(\"ggplot\")\n",
        "plt.figure(figsize=(12,7))\n",
        "plt.plot(history.history[\"loss\"], label=\"train_loss\")\n",
        "plt.plot(history.history[\"val_loss\"], label=\"val_loss\")\n",
        "plt.title(\"Loss Plot\")\n",
        "plt.xlabel(\"Epoch #\")\n",
        "plt.ylabel(\"Loss\")\n",
        "plt.legend()\n",
        "plt.show()"
      ],
      "execution_count": 22,
      "outputs": [
        {
          "output_type": "display_data",
          "data": {
            "image/png": "[encoded data removed]",
            "text/plain": [
              "<Figure size 864x504 with 1 Axes>"
            ]
          },
          "metadata": {}
        }
      ]
    },
    {
      "cell_type": "code",
      "metadata": {
        "colab": {
          "base_uri": "https://localhost:8080/",
          "height": 462
        },
        "id": "qqHp7dExOcyy",
        "outputId": "62158399-6abf-447d-a3a4-e09c3f0ab109"
      },
      "source": [
        "plt.style.use(\"ggplot\")\n",
        "plt.figure(figsize=(12,7))\n",
        "plt.plot(history.history[\"accuracy\"], label=\"train_acc\")\n",
        "plt.plot(history.history[\"val_accuracy\"], label=\"val_acc\")\n",
        "plt.title(\"Accuracy Plot\")\n",
        "plt.xlabel(\"Epoch #\")\n",
        "plt.ylabel(\"Acc\")\n",
        "plt.legend()\n",
        "plt.show()"
      ],
      "execution_count": 23,
      "outputs": [
        {
          "output_type": "display_data",
          "data": {
            "image/png": "[encoded data removed]",
            "text/plain": [
              "<Figure size 864x504 with 1 Axes>"
            ]
          },
          "metadata": {}
        }
      ]
    },
    {
      "cell_type": "code",
      "metadata": {
        "colab": {
          "base_uri": "https://localhost:8080/"
        },
        "id": "h0EdAapgOhT4",
        "outputId": "5babfd8d-04c5-44a5-ef27-5cf0740f08f8"
      },
      "source": [
        "score = model1.evaluate(test_generator)\n",
        "\n",
        "print('Loss: {:.2f}'.format(score[0]))\n",
        "print('Accuracy: {:.2f}'.format(score[1]))"
      ],
      "execution_count": 24,
      "outputs": [
        {
          "output_type": "stream",
          "name": "stdout",
          "text": [
            "2/2 [==============================] - 2s 554ms/step - loss: 0.8570 - accuracy: 0.7021\n",
            "Loss: 0.86\n",
            "Accuracy: 0.70\n"
          ]
        }
      ]
    },
    {
      "cell_type": "code",
      "metadata": {
        "id": "eOkbWbKvOpcu"
      },
      "source": [
        "from sklearn.metrics import classification_report, confusion_matrix, roc_curve, auc\n",
        "import numpy as np\n",
        "\n",
        "pred = model1.predict(test_generator)\n",
        "labels = (pred > 0.5).astype(np.int)"
      ],
      "execution_count": 25,
      "outputs": []
    },
    {
      "cell_type": "code",
      "metadata": {
        "colab": {
          "base_uri": "https://localhost:8080/"
        },
        "id": "kNuVTJ1VOtE1",
        "outputId": "fd7c7f74-1a8b-4bcd-d171-4d0e3941d96a"
      },
      "source": [
        "import tensorflow as tf\n",
        "\n",
        "model_ann = tf.keras.models.Sequential([\n",
        "    tf.keras.layers.InputLayer(input_shape=(250,250,3)),\n",
        "    tf.keras.layers.Flatten(),\n",
        "    tf.keras.layers.Dense(32, activation='relu'),\n",
        "    tf.keras.layers.Dense(64, activation='relu'),\n",
        "    tf.keras.layers.Dense(128, activation='relu'),\n",
        "    tf.keras.layers.Dense(5, activation='softmax'),\n",
        "])\n",
        "\n",
        "model_ann.summary()"
      ],
      "execution_count": 26,
      "outputs": [
        {
          "output_type": "stream",
          "name": "stdout",
          "text": [
            "Model: \"sequential_1\"\n",
            "_________________________________________________________________\n",
            " Layer (type)                Output Shape              Param #   \n",
            "=================================================================\n",
            " flatten_1 (Flatten)         (None, 187500)            0         \n",
            "                                                                 \n",
            " dense_2 (Dense)             (None, 32)                6000032   \n",
            "                                                                 \n",
            " dense_3 (Dense)             (None, 64)                2112      \n",
            "                                                                 \n",
            " dense_4 (Dense)             (None, 128)               8320      \n",
            "                                                                 \n",
            " dense_5 (Dense)             (None, 5)                 645       \n",
            "                                                                 \n",
            "=================================================================\n",
            "Total params: 6,011,109\n",
            "Trainable params: 6,011,109\n",
            "Non-trainable params: 0\n",
            "_________________________________________________________________\n"
          ]
        }
      ]
    },
    {
      "cell_type": "code",
      "metadata": {
        "id": "t-Zq9aivxgmH"
      },
      "source": [
        "from tensorflow.keras.optimizers import Adam\n",
        "\n",
        "# Compile model\n",
        "model_ann.compile(loss='categorical_crossentropy',\n",
        "              optimizer=Adam(learning_rate=0.0001),\n",
        "              metrics=['accuracy'])"
      ],
      "execution_count": 27,
      "outputs": []
    },
    {
      "cell_type": "code",
      "metadata": {
        "colab": {
          "base_uri": "https://localhost:8080/"
        },
        "id": "HVfAG85kyPmx",
        "outputId": "0a62baeb-43d6-4a7d-b94f-15f898ebc97b"
      },
      "source": [
        "start=time.time()\n",
        "history2 = model_ann.fit(train_generator,\n",
        "          epochs=100,\n",
        "          validation_data=val_generator,\n",
        "          verbose=1)"
      ],
      "execution_count": 28,
      "outputs": [
        {
          "output_type": "stream",
          "name": "stdout",
          "text": [
            "Epoch 1/100\n",
            "107/107 [==============================] - 64s 591ms/step - loss: 1.5237 - accuracy: 0.3366 - val_loss: 1.3515 - val_accuracy: 0.3781\n",
            "Epoch 2/100\n",
            "107/107 [==============================] - 61s 569ms/step - loss: 1.3447 - accuracy: 0.4148 - val_loss: 1.2845 - val_accuracy: 0.4353\n",
            "Epoch 3/100\n",
            "107/107 [==============================] - 61s 570ms/step - loss: 1.3108 - accuracy: 0.4269 - val_loss: 1.3190 - val_accuracy: 0.4129\n",
            "Epoch 4/100\n",
            "107/107 [==============================] - 60s 558ms/step - loss: 1.2971 - accuracy: 0.4301 - val_loss: 1.2653 - val_accuracy: 0.4303\n",
            "Epoch 5/100\n",
            "107/107 [==============================] - 60s 564ms/step - loss: 1.2665 - accuracy: 0.4437 - val_loss: 1.2511 - val_accuracy: 0.4204\n",
            "Epoch 6/100\n",
            "107/107 [==============================] - 60s 561ms/step - loss: 1.2551 - accuracy: 0.4416 - val_loss: 1.2383 - val_accuracy: 0.4639\n",
            "Epoch 7/100\n",
            "107/107 [==============================] - 60s 561ms/step - loss: 1.2833 - accuracy: 0.4372 - val_loss: 1.2584 - val_accuracy: 0.4316\n",
            "Epoch 8/100\n",
            "107/107 [==============================] - 60s 560ms/step - loss: 1.2791 - accuracy: 0.4422 - val_loss: 1.2347 - val_accuracy: 0.4453\n",
            "Epoch 9/100\n",
            "107/107 [==============================] - 62s 577ms/step - loss: 1.2680 - accuracy: 0.4289 - val_loss: 1.1973 - val_accuracy: 0.4689\n",
            "Epoch 10/100\n",
            "107/107 [==============================] - 60s 561ms/step - loss: 1.2521 - accuracy: 0.4507 - val_loss: 1.2291 - val_accuracy: 0.4602\n",
            "Epoch 11/100\n",
            "107/107 [==============================] - 60s 558ms/step - loss: 1.2450 - accuracy: 0.4448 - val_loss: 1.2616 - val_accuracy: 0.4465\n",
            "Epoch 12/100\n",
            "107/107 [==============================] - 60s 562ms/step - loss: 1.2184 - accuracy: 0.4613 - val_loss: 1.2588 - val_accuracy: 0.4639\n",
            "Epoch 13/100\n",
            "107/107 [==============================] - 60s 563ms/step - loss: 1.2273 - accuracy: 0.4628 - val_loss: 1.1964 - val_accuracy: 0.4900\n",
            "Epoch 14/100\n",
            "107/107 [==============================] - 60s 556ms/step - loss: 1.2312 - accuracy: 0.4640 - val_loss: 1.2572 - val_accuracy: 0.4415\n",
            "Epoch 15/100\n",
            "107/107 [==============================] - 60s 563ms/step - loss: 1.2190 - accuracy: 0.4610 - val_loss: 1.1854 - val_accuracy: 0.4776\n",
            "Epoch 16/100\n",
            "107/107 [==============================] - 61s 571ms/step - loss: 1.2120 - accuracy: 0.4672 - val_loss: 1.2085 - val_accuracy: 0.4627\n",
            "Epoch 17/100\n",
            "107/107 [==============================] - 61s 571ms/step - loss: 1.1949 - accuracy: 0.4787 - val_loss: 1.2159 - val_accuracy: 0.4664\n",
            "Epoch 18/100\n",
            "107/107 [==============================] - 60s 558ms/step - loss: 1.2054 - accuracy: 0.4654 - val_loss: 1.2170 - val_accuracy: 0.4515\n",
            "Epoch 19/100\n",
            "107/107 [==============================] - 63s 592ms/step - loss: 1.1947 - accuracy: 0.4781 - val_loss: 1.1835 - val_accuracy: 0.4701\n",
            "Epoch 20/100\n",
            "107/107 [==============================] - 60s 561ms/step - loss: 1.1942 - accuracy: 0.4781 - val_loss: 1.2056 - val_accuracy: 0.4876\n",
            "Epoch 21/100\n",
            "107/107 [==============================] - 60s 558ms/step - loss: 1.2016 - accuracy: 0.4698 - val_loss: 1.2704 - val_accuracy: 0.4428\n",
            "Epoch 22/100\n",
            "107/107 [==============================] - 61s 569ms/step - loss: 1.1833 - accuracy: 0.4848 - val_loss: 1.1870 - val_accuracy: 0.4614\n",
            "Epoch 23/100\n",
            "107/107 [==============================] - 60s 561ms/step - loss: 1.2046 - accuracy: 0.4763 - val_loss: 1.2111 - val_accuracy: 0.4602\n",
            "Epoch 24/100\n",
            "107/107 [==============================] - 60s 563ms/step - loss: 1.1714 - accuracy: 0.4916 - val_loss: 1.1790 - val_accuracy: 0.4677\n",
            "Epoch 25/100\n",
            "107/107 [==============================] - 60s 561ms/step - loss: 1.1943 - accuracy: 0.4825 - val_loss: 1.2331 - val_accuracy: 0.4652\n",
            "Epoch 26/100\n",
            "107/107 [==============================] - 60s 564ms/step - loss: 1.1951 - accuracy: 0.4810 - val_loss: 1.1843 - val_accuracy: 0.4701\n",
            "Epoch 27/100\n",
            "107/107 [==============================] - 61s 568ms/step - loss: 1.1672 - accuracy: 0.4913 - val_loss: 1.1764 - val_accuracy: 0.4677\n",
            "Epoch 28/100\n",
            "107/107 [==============================] - 61s 573ms/step - loss: 1.1797 - accuracy: 0.4919 - val_loss: 1.2423 - val_accuracy: 0.4515\n",
            "Epoch 29/100\n",
            "107/107 [==============================] - 61s 566ms/step - loss: 1.1814 - accuracy: 0.4863 - val_loss: 1.2867 - val_accuracy: 0.4254\n",
            "Epoch 30/100\n",
            "107/107 [==============================] - 63s 591ms/step - loss: 1.1887 - accuracy: 0.4949 - val_loss: 1.1875 - val_accuracy: 0.4988\n",
            "Epoch 31/100\n",
            "107/107 [==============================] - 62s 580ms/step - loss: 1.1829 - accuracy: 0.4907 - val_loss: 1.1897 - val_accuracy: 0.4801\n",
            "Epoch 32/100\n",
            "107/107 [==============================] - 66s 612ms/step - loss: 1.1714 - accuracy: 0.4978 - val_loss: 1.2113 - val_accuracy: 0.4527\n",
            "Epoch 33/100\n",
            "107/107 [==============================] - 60s 562ms/step - loss: 1.1616 - accuracy: 0.4981 - val_loss: 1.1874 - val_accuracy: 0.4764\n",
            "Epoch 34/100\n",
            "107/107 [==============================] - 61s 568ms/step - loss: 1.1577 - accuracy: 0.4943 - val_loss: 1.1869 - val_accuracy: 0.4888\n",
            "Epoch 35/100\n",
            "107/107 [==============================] - 60s 563ms/step - loss: 1.1724 - accuracy: 0.4890 - val_loss: 1.1911 - val_accuracy: 0.4863\n",
            "Epoch 36/100\n",
            "107/107 [==============================] - 61s 568ms/step - loss: 1.1576 - accuracy: 0.5025 - val_loss: 1.2162 - val_accuracy: 0.4527\n",
            "Epoch 37/100\n",
            "107/107 [==============================] - 61s 569ms/step - loss: 1.1474 - accuracy: 0.4975 - val_loss: 1.1821 - val_accuracy: 0.4776\n",
            "Epoch 38/100\n",
            "107/107 [==============================] - 64s 594ms/step - loss: 1.1608 - accuracy: 0.4949 - val_loss: 1.2008 - val_accuracy: 0.4664\n",
            "Epoch 39/100\n",
            "107/107 [==============================] - 61s 565ms/step - loss: 1.1638 - accuracy: 0.4937 - val_loss: 1.1789 - val_accuracy: 0.5087\n",
            "Epoch 40/100\n",
            "107/107 [==============================] - 61s 569ms/step - loss: 1.1523 - accuracy: 0.4951 - val_loss: 1.1905 - val_accuracy: 0.4826\n",
            "Epoch 41/100\n",
            "107/107 [==============================] - 59s 556ms/step - loss: 1.1469 - accuracy: 0.5166 - val_loss: 1.2128 - val_accuracy: 0.4440\n",
            "Epoch 42/100\n",
            "107/107 [==============================] - 59s 554ms/step - loss: 1.1617 - accuracy: 0.4996 - val_loss: 1.2260 - val_accuracy: 0.4801\n",
            "Epoch 43/100\n",
            "107/107 [==============================] - 59s 554ms/step - loss: 1.1553 - accuracy: 0.5037 - val_loss: 1.1898 - val_accuracy: 0.4701\n",
            "Epoch 44/100\n",
            "107/107 [==============================] - 59s 552ms/step - loss: 1.1516 - accuracy: 0.5060 - val_loss: 1.1884 - val_accuracy: 0.4577\n",
            "Epoch 45/100\n",
            "107/107 [==============================] - 59s 549ms/step - loss: 1.1641 - accuracy: 0.4940 - val_loss: 1.2564 - val_accuracy: 0.4602\n",
            "Epoch 46/100\n",
            "107/107 [==============================] - 59s 554ms/step - loss: 1.1686 - accuracy: 0.4972 - val_loss: 1.1918 - val_accuracy: 0.4652\n",
            "Epoch 47/100\n",
            "107/107 [==============================] - 59s 552ms/step - loss: 1.1635 - accuracy: 0.4913 - val_loss: 1.2441 - val_accuracy: 0.4689\n",
            "Epoch 48/100\n",
            "107/107 [==============================] - 59s 555ms/step - loss: 1.1593 - accuracy: 0.4949 - val_loss: 1.1745 - val_accuracy: 0.4913\n",
            "Epoch 49/100\n",
            "107/107 [==============================] - 63s 589ms/step - loss: 1.1339 - accuracy: 0.5093 - val_loss: 1.1967 - val_accuracy: 0.4726\n",
            "Epoch 50/100\n",
            "107/107 [==============================] - 60s 563ms/step - loss: 1.1345 - accuracy: 0.5166 - val_loss: 1.2175 - val_accuracy: 0.4540\n",
            "Epoch 51/100\n",
            "107/107 [==============================] - 60s 560ms/step - loss: 1.1282 - accuracy: 0.5199 - val_loss: 1.2453 - val_accuracy: 0.4440\n",
            "Epoch 52/100\n",
            "107/107 [==============================] - 60s 561ms/step - loss: 1.1380 - accuracy: 0.5140 - val_loss: 1.2049 - val_accuracy: 0.4863\n",
            "Epoch 53/100\n",
            "107/107 [==============================] - 60s 564ms/step - loss: 1.1330 - accuracy: 0.5202 - val_loss: 1.1973 - val_accuracy: 0.4602\n",
            "Epoch 54/100\n",
            "107/107 [==============================] - 60s 560ms/step - loss: 1.1226 - accuracy: 0.5096 - val_loss: 1.2240 - val_accuracy: 0.4453\n",
            "Epoch 55/100\n",
            "107/107 [==============================] - 60s 557ms/step - loss: 1.1552 - accuracy: 0.5087 - val_loss: 1.1833 - val_accuracy: 0.4963\n",
            "Epoch 56/100\n",
            "107/107 [==============================] - 59s 555ms/step - loss: 1.1350 - accuracy: 0.5134 - val_loss: 1.1839 - val_accuracy: 0.4677\n",
            "Epoch 57/100\n",
            "107/107 [==============================] - 60s 558ms/step - loss: 1.1192 - accuracy: 0.5160 - val_loss: 1.1793 - val_accuracy: 0.4826\n",
            "Epoch 58/100\n",
            "107/107 [==============================] - 60s 560ms/step - loss: 1.1230 - accuracy: 0.5252 - val_loss: 1.2104 - val_accuracy: 0.4876\n",
            "Epoch 59/100\n",
            "107/107 [==============================] - 60s 562ms/step - loss: 1.1402 - accuracy: 0.5152 - val_loss: 1.1758 - val_accuracy: 0.4701\n",
            "Epoch 60/100\n",
            "107/107 [==============================] - 60s 558ms/step - loss: 1.1281 - accuracy: 0.5213 - val_loss: 1.2088 - val_accuracy: 0.4577\n",
            "Epoch 61/100\n",
            "107/107 [==============================] - 60s 562ms/step - loss: 1.1300 - accuracy: 0.5193 - val_loss: 1.2761 - val_accuracy: 0.4403\n",
            "Epoch 62/100\n",
            "107/107 [==============================] - 62s 575ms/step - loss: 1.1326 - accuracy: 0.5207 - val_loss: 1.1806 - val_accuracy: 0.4813\n",
            "Epoch 63/100\n",
            "107/107 [==============================] - 59s 552ms/step - loss: 1.1260 - accuracy: 0.5184 - val_loss: 1.1826 - val_accuracy: 0.4838\n",
            "Epoch 64/100\n",
            "107/107 [==============================] - 59s 554ms/step - loss: 1.1220 - accuracy: 0.5172 - val_loss: 1.1746 - val_accuracy: 0.4851\n",
            "Epoch 65/100\n",
            "107/107 [==============================] - 60s 562ms/step - loss: 1.1024 - accuracy: 0.5375 - val_loss: 1.1788 - val_accuracy: 0.4776\n",
            "Epoch 66/100\n",
            "107/107 [==============================] - 60s 563ms/step - loss: 1.1006 - accuracy: 0.5284 - val_loss: 1.2246 - val_accuracy: 0.4714\n",
            "Epoch 67/100\n",
            "107/107 [==============================] - 60s 562ms/step - loss: 1.1209 - accuracy: 0.5140 - val_loss: 1.2078 - val_accuracy: 0.4801\n",
            "Epoch 68/100\n",
            "107/107 [==============================] - 60s 559ms/step - loss: 1.1228 - accuracy: 0.5246 - val_loss: 1.2130 - val_accuracy: 0.4863\n",
            "Epoch 69/100\n",
            "107/107 [==============================] - 59s 555ms/step - loss: 1.1114 - accuracy: 0.5166 - val_loss: 1.1729 - val_accuracy: 0.5124\n",
            "Epoch 70/100\n",
            "107/107 [==============================] - 59s 554ms/step - loss: 1.1249 - accuracy: 0.5281 - val_loss: 1.2054 - val_accuracy: 0.4876\n",
            "Epoch 71/100\n",
            "107/107 [==============================] - 59s 555ms/step - loss: 1.1225 - accuracy: 0.5228 - val_loss: 1.1719 - val_accuracy: 0.4813\n",
            "Epoch 72/100\n",
            "107/107 [==============================] - 61s 569ms/step - loss: 1.0993 - accuracy: 0.5252 - val_loss: 1.2026 - val_accuracy: 0.4664\n",
            "Epoch 73/100\n",
            "107/107 [==============================] - 60s 557ms/step - loss: 1.1252 - accuracy: 0.5263 - val_loss: 1.2106 - val_accuracy: 0.4751\n",
            "Epoch 74/100\n",
            "107/107 [==============================] - 62s 580ms/step - loss: 1.1107 - accuracy: 0.5243 - val_loss: 1.1826 - val_accuracy: 0.4789\n",
            "Epoch 75/100\n",
            "107/107 [==============================] - 60s 557ms/step - loss: 1.0912 - accuracy: 0.5387 - val_loss: 1.1851 - val_accuracy: 0.4614\n",
            "Epoch 76/100\n",
            "107/107 [==============================] - 59s 551ms/step - loss: 1.1066 - accuracy: 0.5275 - val_loss: 1.2384 - val_accuracy: 0.4714\n",
            "Epoch 77/100\n",
            "107/107 [==============================] - 60s 557ms/step - loss: 1.1206 - accuracy: 0.5213 - val_loss: 1.1972 - val_accuracy: 0.4764\n",
            "Epoch 78/100\n",
            "107/107 [==============================] - 59s 553ms/step - loss: 1.1261 - accuracy: 0.5175 - val_loss: 1.1753 - val_accuracy: 0.4950\n",
            "Epoch 79/100\n",
            "107/107 [==============================] - 60s 562ms/step - loss: 1.1102 - accuracy: 0.5313 - val_loss: 1.1955 - val_accuracy: 0.4627\n",
            "Epoch 80/100\n",
            "107/107 [==============================] - 60s 557ms/step - loss: 1.1058 - accuracy: 0.5172 - val_loss: 1.2017 - val_accuracy: 0.4627\n",
            "Epoch 81/100\n",
            "107/107 [==============================] - 63s 588ms/step - loss: 1.1239 - accuracy: 0.5154 - val_loss: 1.2186 - val_accuracy: 0.4627\n",
            "Epoch 82/100\n",
            "107/107 [==============================] - 60s 560ms/step - loss: 1.1138 - accuracy: 0.5216 - val_loss: 1.1794 - val_accuracy: 0.4764\n",
            "Epoch 83/100\n",
            "107/107 [==============================] - 60s 564ms/step - loss: 1.0890 - accuracy: 0.5428 - val_loss: 1.1746 - val_accuracy: 0.4938\n",
            "Epoch 84/100\n",
            "107/107 [==============================] - 60s 562ms/step - loss: 1.1254 - accuracy: 0.5225 - val_loss: 1.2155 - val_accuracy: 0.4789\n",
            "Epoch 85/100\n",
            "107/107 [==============================] - 61s 566ms/step - loss: 1.1117 - accuracy: 0.5249 - val_loss: 1.2021 - val_accuracy: 0.4789\n",
            "Epoch 86/100\n",
            "107/107 [==============================] - 67s 628ms/step - loss: 1.0963 - accuracy: 0.5381 - val_loss: 1.1941 - val_accuracy: 0.4751\n",
            "Epoch 87/100\n",
            "107/107 [==============================] - 67s 624ms/step - loss: 1.1028 - accuracy: 0.5319 - val_loss: 1.1875 - val_accuracy: 0.4876\n",
            "Epoch 88/100\n",
            "107/107 [==============================] - 69s 641ms/step - loss: 1.1158 - accuracy: 0.5340 - val_loss: 1.2203 - val_accuracy: 0.4502\n",
            "Epoch 89/100\n",
            "107/107 [==============================] - 67s 628ms/step - loss: 1.1171 - accuracy: 0.5252 - val_loss: 1.1947 - val_accuracy: 0.4876\n",
            "Epoch 90/100\n",
            "107/107 [==============================] - 67s 625ms/step - loss: 1.1014 - accuracy: 0.5396 - val_loss: 1.1929 - val_accuracy: 0.4652\n",
            "Epoch 91/100\n",
            "107/107 [==============================] - 68s 631ms/step - loss: 1.0925 - accuracy: 0.5328 - val_loss: 1.1952 - val_accuracy: 0.4689\n",
            "Epoch 92/100\n",
            "107/107 [==============================] - 67s 627ms/step - loss: 1.0995 - accuracy: 0.5305 - val_loss: 1.1712 - val_accuracy: 0.4888\n",
            "Epoch 93/100\n",
            "107/107 [==============================] - 68s 632ms/step - loss: 1.0915 - accuracy: 0.5313 - val_loss: 1.1854 - val_accuracy: 0.4963\n",
            "Epoch 94/100\n",
            "107/107 [==============================] - 69s 640ms/step - loss: 1.0799 - accuracy: 0.5440 - val_loss: 1.1923 - val_accuracy: 0.5137\n",
            "Epoch 95/100\n",
            "107/107 [==============================] - 70s 652ms/step - loss: 1.1013 - accuracy: 0.5349 - val_loss: 1.1783 - val_accuracy: 0.4627\n",
            "Epoch 96/100\n",
            "107/107 [==============================] - 67s 623ms/step - loss: 1.0690 - accuracy: 0.5469 - val_loss: 1.1709 - val_accuracy: 0.4963\n",
            "Epoch 97/100\n",
            "107/107 [==============================] - 66s 617ms/step - loss: 1.0941 - accuracy: 0.5302 - val_loss: 1.1967 - val_accuracy: 0.4876\n",
            "Epoch 98/100\n",
            "107/107 [==============================] - 67s 623ms/step - loss: 1.0848 - accuracy: 0.5481 - val_loss: 1.1824 - val_accuracy: 0.4838\n",
            "Epoch 99/100\n",
            "107/107 [==============================] - 68s 636ms/step - loss: 1.0781 - accuracy: 0.5472 - val_loss: 1.1716 - val_accuracy: 0.5050\n",
            "Epoch 100/100\n",
            "107/107 [==============================] - 66s 617ms/step - loss: 1.0850 - accuracy: 0.5366 - val_loss: 1.1886 - val_accuracy: 0.4776\n"
          ]
        }
      ]
    },
    {
      "cell_type": "code",
      "metadata": {
        "colab": {
          "base_uri": "https://localhost:8080/"
        },
        "id": "ftevleJ637pf",
        "outputId": "917fa3fa-2e08-4bdd-bc00-b050567e6423"
      },
      "source": [
        "print(\"waktu = \", time.time() - start, \"detik\")"
      ],
      "execution_count": 29,
      "outputs": [
        {
          "output_type": "stream",
          "name": "stdout",
          "text": [
            "waktu =  7258.188858509064 detik\n"
          ]
        }
      ]
    },
    {
      "cell_type": "code",
      "metadata": {
        "colab": {
          "base_uri": "https://localhost:8080/"
        },
        "id": "rcVdRwzs3_Ks",
        "outputId": "7fc1f8c6-d7e0-4787-c21c-35b6b03c0778"
      },
      "source": [
        "score = model_ann.evaluate(train_generator)\n",
        "\n",
        "print('Loss: {:.2f}'.format(score[0]))\n",
        "print('Accuracy: {:.2f}'.format(score[1]))"
      ],
      "execution_count": 30,
      "outputs": [
        {
          "output_type": "stream",
          "name": "stdout",
          "text": [
            "107/107 [==============================] - 59s 553ms/step - loss: 1.0682 - accuracy: 0.5478\n",
            "Loss: 1.07\n",
            "Accuracy: 0.55\n"
          ]
        }
      ]
    },
    {
      "cell_type": "code",
      "metadata": {
        "colab": {
          "base_uri": "https://localhost:8080/"
        },
        "id": "y9nIHz8n4EGe",
        "outputId": "40ac021c-68c2-4a7b-d5ae-e9d800e87c77"
      },
      "source": [
        "score = model_ann.evaluate(val_generator)\n",
        "\n",
        "print('Loss: {:.2f}'.format(score[0]))\n",
        "print('Accuracy: {:.2f}'.format(score[1]))"
      ],
      "execution_count": 31,
      "outputs": [
        {
          "output_type": "stream",
          "name": "stdout",
          "text": [
            "26/26 [==============================] - 3s 122ms/step - loss: 1.1886 - accuracy: 0.4776\n",
            "Loss: 1.19\n",
            "Accuracy: 0.48\n"
          ]
        }
      ]
    },
    {
      "cell_type": "code",
      "metadata": {
        "colab": {
          "base_uri": "https://localhost:8080/",
          "height": 462
        },
        "id": "epFDc7RV4Mt0",
        "outputId": "b53f54da-69ff-47f3-820c-8c1782519438"
      },
      "source": [
        "plt.style.use(\"ggplot\")\n",
        "plt.figure(figsize=(12,7))\n",
        "plt.plot(history2.history[\"loss\"], label=\"train_loss\")\n",
        "plt.plot(history2.history[\"val_loss\"], label=\"val_loss\")\n",
        "plt.title(\"Loss Plot\")\n",
        "plt.xlabel(\"Epoch #\")\n",
        "plt.ylabel(\"Loss\")\n",
        "plt.legend()\n",
        "plt.show()"
      ],
      "execution_count": 32,
      "outputs": [
        {
          "output_type": "display_data",
          "data": {
            "image/png": "[encoded data removed]",
            "text/plain": [
              "<Figure size 864x504 with 1 Axes>"
            ]
          },
          "metadata": {}
        }
      ]
    },
    {
      "cell_type": "code",
      "metadata": {
        "colab": {
          "base_uri": "https://localhost:8080/",
          "height": 462
        },
        "id": "Uk_V5BxF4RM6",
        "outputId": "34522e6e-37da-4d50-89ce-45a679d5398b"
      },
      "source": [
        "plt.style.use(\"ggplot\")\n",
        "plt.figure(figsize=(12,7))\n",
        "plt.plot(history2.history[\"accuracy\"], label=\"train_acc\")\n",
        "plt.plot(history2.history[\"val_accuracy\"], label=\"val_acc\")\n",
        "plt.title(\"Accuracy Plot\")\n",
        "plt.xlabel(\"Epoch #\")\n",
        "plt.ylabel(\"Acc\")\n",
        "plt.legend()\n",
        "plt.show()"
      ],
      "execution_count": 33,
      "outputs": [
        {
          "output_type": "display_data",
          "data": {
            "image/png": "[encoded data removed]",
            "text/plain": [
              "<Figure size 864x504 with 1 Axes>"
            ]
          },
          "metadata": {}
        }
      ]
    },
    {
      "cell_type": "code",
      "metadata": {
        "colab": {
          "base_uri": "https://localhost:8080/"
        },
        "id": "AJS_w3xl4i_4",
        "outputId": "3c0ced9d-61b4-4615-908c-ea0bf6715db2"
      },
      "source": [
        "score = model_ann.evaluate(test_generator)\n",
        "\n",
        "print('Loss: {:.2f}'.format(score[0]))\n",
        "print('Accuracy: {:.2f}'.format(score[1]))"
      ],
      "execution_count": 34,
      "outputs": [
        {
          "output_type": "stream",
          "name": "stdout",
          "text": [
            "2/2 [==============================] - 0s 93ms/step - loss: 1.3437 - accuracy: 0.3830\n",
            "Loss: 1.34\n",
            "Accuracy: 0.38\n"
          ]
        }
      ]
    },
    {
      "cell_type": "code",
      "metadata": {
        "id": "ZQ2aTcHC4phM"
      },
      "source": [
        "pred2 = model_ann.predict(test_generator)\n",
        "labels = (pred2 > 0.5).astype(np.int)"
      ],
      "execution_count": 35,
      "outputs": []
    },
    {
      "cell_type": "code",
      "metadata": {
        "id": "NoAqkZE34uyQ"
      },
      "source": [
        "# model1.save(\"model1_diabet.h5\")\n",
        "# model2.save(\"model2_diabet.h5\")"
      ],
      "execution_count": 36,
      "outputs": []
    },
    {
      "cell_type": "code",
      "metadata": {
        "id": "4znbPGTj405Q"
      },
      "source": [
        "import tensorflow as tf\n",
        "from tensorboard.plugins.hparams import api as hp"
      ],
      "execution_count": 37,
      "outputs": []
    },
    {
      "cell_type": "code",
      "metadata": {
        "id": "IFI0FTH-48X1"
      },
      "source": [
        "%load_ext tensorboard"
      ],
      "execution_count": 38,
      "outputs": []
    },
    {
      "cell_type": "code",
      "metadata": {
        "id": "sUDu6eNq49Mm"
      },
      "source": [
        "!rm -rf ./logs/"
      ],
      "execution_count": 39,
      "outputs": []
    },
    {
      "cell_type": "code",
      "metadata": {
        "id": "ULnrSaHN4_br"
      },
      "source": [
        "HP_NUM_UNITS = hp.HParam('num_units', hp.Discrete([32,64,128]))\n",
        "HP_DROPOUT = hp.HParam('dropout', hp.RealInterval(0.2, 0.5))\n",
        "HP_OPTIMIZER = hp.HParam('optimizer', hp.Discrete(['adam', 'rmsprop', 'adadelta']))\n",
        "\n",
        "METRIC_ACCURACY = 'accuracy'\n",
        "\n",
        "with tf.summary.create_file_writer('logs/hparam_tuning').as_default():\n",
        "  hp.hparams_config(\n",
        "    hparams=[HP_NUM_UNITS, HP_DROPOUT, HP_OPTIMIZER],\n",
        "    metrics=[hp.Metric(METRIC_ACCURACY, display_name='Accuracy')],\n",
        "  )"
      ],
      "execution_count": 40,
      "outputs": []
    },
    {
      "cell_type": "code",
      "metadata": {
        "id": "AkmqBqy35Cgx"
      },
      "source": [
        "# xvl, yvl = zip(*(val_generator[i] for i in range(len(val_generator))))\n",
        "# x_val, y_val = np.vstack(xvl), np.vstack(yvl)"
      ],
      "execution_count": 41,
      "outputs": []
    },
    {
      "cell_type": "code",
      "metadata": {
        "id": "S-YJ-_nI5FqD"
      },
      "source": [
        "from tensorflow.keras import layers\n",
        "from tensorflow.keras import Model\n",
        "from tensorflow.keras.layers import InputLayer, Activation, Dense, Conv2D, MaxPool2D, Dropout, Flatten, BatchNormalization\n",
        "from tensorflow.keras.models import Sequential\n",
        "\n",
        "def train_test_model(hparams):\n",
        "  model_hparams = Sequential()\n",
        "\n",
        "  model_hparams.add(InputLayer(input_shape=[250,250,3]))\n",
        "\n",
        "  model_hparams.add(Conv2D(filters=4, kernel_size=3, strides=1, padding='same', activation='relu'))\n",
        "  model_hparams.add(Conv2D(filters=8, kernel_size=3, strides=1, padding='same', activation='relu'))\n",
        "  model_hparams.add(BatchNormalization())\n",
        "  model_hparams.add(MaxPool2D(pool_size=2, padding='same'))\n",
        "\n",
        "  model_hparams.add(Conv2D(filters=16, kernel_size=3, strides=1, padding='same', activation='relu'))\n",
        "  model_hparams.add(BatchNormalization())\n",
        "  model_hparams.add(MaxPool2D(pool_size=2, padding='same'))\n",
        "\n",
        "  model_hparams.add(Conv2D(filters=32, kernel_size=3, strides=1, padding='same', activation='relu'))\n",
        "  model_hparams.add(BatchNormalization())\n",
        "  model_hparams.add(MaxPool2D(pool_size=2, padding='same'))\n",
        "\n",
        "  model_hparams.add(Conv2D(filters=64, kernel_size=3, strides=1, padding='same', activation='relu'))\n",
        "  model_hparams.add(BatchNormalization())\n",
        "  model_hparams.add(MaxPool2D(pool_size=2, padding='same'))\n",
        "\n",
        "  model_hparams.add(Conv2D(filters=128, kernel_size=3, strides=1, padding='same', activation='relu'))\n",
        "  model_hparams.add(BatchNormalization())\n",
        "  model_hparams.add(MaxPool2D(pool_size=2, padding='same'))\n",
        "\n",
        "  model_hparams.add(Conv2D(filters=8, kernel_size=3, strides=1, padding='same', activation='relu'))\n",
        "  model_hparams.add(BatchNormalization())\n",
        "  model_hparams.add(MaxPool2D(pool_size=2, padding='same'))\n",
        "  model_hparams.add(Dropout(hparams[HP_DROPOUT]))\n",
        "\n",
        "  model_hparams.add(Flatten())\n",
        "\n",
        "  # Fully Connected Layer\n",
        "  model_hparams.add(Dense(hparams[HP_NUM_UNITS], activation='relu'))\n",
        "  model_hparams.add(Dropout(hparams[HP_DROPOUT]))\n",
        "  model_hparams.add(Dense(1, activation='softmax'))\n",
        "  \n",
        "  model_hparams.compile(\n",
        "      optimizer=hparams[HP_OPTIMIZER],\n",
        "      loss='categorical_crossentropy',\n",
        "      metrics=['accuracy'],\n",
        "  )\n",
        "\n",
        "  # model.fit(x_train, y_train, epochs=10) \n",
        "  model_hparams.fit(train_generator, epochs=50, validation_data=val_generator, verbose=1)\n",
        "  _, accuracy = model_hparams.evaluate(x_val, y_val)\n",
        "  return accuracy"
      ],
      "execution_count": 42,
      "outputs": []
    },
    {
      "cell_type": "code",
      "metadata": {
        "id": "Fcc10qdd5Ioh"
      },
      "source": [
        "def run(run_dir, hparams):\n",
        "  with tf.summary.create_file_writer(run_dir).as_default():\n",
        "    hp.hparams(hparams)  # record the values used in this trial\n",
        "    accuracy = train_test_model(hparams)\n",
        "    tf.summary.scalar(METRIC_ACCURACY, accuracy, step=50)"
      ],
      "execution_count": 43,
      "outputs": []
    },
    {
      "cell_type": "code",
      "metadata": {
        "colab": {
          "base_uri": "https://localhost:8080/"
        },
        "id": "rPYTBirW5K8Y",
        "outputId": "9cabf52c-ef49-4468-8bcd-6920ae945aa6"
      },
      "source": [
        "['adam', 'sgd', 'adadelta', 'rmsprop', 'adamx', 'nadam']"
      ],
      "execution_count": 44,
      "outputs": [
        {
          "output_type": "execute_result",
          "data": {
            "text/plain": [
              "['adam', 'sgd', 'adadelta', 'rmsprop', 'adamx', 'nadam']"
            ]
          },
          "metadata": {},
          "execution_count": 44
        }
      ]
    },
    {
      "cell_type": "code",
      "metadata": {
        "colab": {
          "base_uri": "https://localhost:8080/",
          "height": 1000
        },
        "id": "t6wklzJr5NTz",
        "outputId": "184e8331-589c-46d0-df7d-ad99e737e69a"
      },
      "source": [
        "session_num = 0\n",
        "\n",
        "for num_units in HP_NUM_UNITS.domain.values:\n",
        "  for dropout_rate in (HP_DROPOUT.domain.min_value, HP_DROPOUT.domain.max_value):\n",
        "    for optimizer in HP_OPTIMIZER.domain.values:\n",
        "      hparams = {\n",
        "          HP_NUM_UNITS: num_units,\n",
        "          HP_DROPOUT: dropout_rate,\n",
        "          HP_OPTIMIZER: optimizer,\n",
        "      }\n",
        "      run_name = \"run-%d\" % session_num\n",
        "      print('--- Starting trial: %s' % run_name)\n",
        "      print({h.name: hparams[h] for h in hparams})\n",
        "      run('logs/hparam_tuning/' + run_name, hparams)\n",
        "      session_num += 1"
      ],
      "execution_count": 45,
      "outputs": [
        {
          "output_type": "stream",
          "name": "stdout",
          "text": [
            "--- Starting trial: run-0\n",
            "{'num_units': 32, 'dropout': 0.2, 'optimizer': 'adadelta'}\n",
            "Epoch 1/50\n"
          ]
        },
        {
          "output_type": "error",
          "ename": "InvalidArgumentError",
          "evalue": "ignored",
          "traceback": [
            "\u001b[0;31m---------------------------------------------------------------------------\u001b[0m",
            "\u001b[0;31mInvalidArgumentError\u001b[0m                      Traceback (most recent call last)",
            "\u001b[0;32m<ipython-input-45-817954b1c171>\u001b[0m in \u001b[0;36m<module>\u001b[0;34m()\u001b[0m\n\u001b[1;32m     12\u001b[0m       \u001b[0mprint\u001b[0m\u001b[0;34m(\u001b[0m\u001b[0;34m'--- Starting trial: %s'\u001b[0m \u001b[0;34m%\u001b[0m \u001b[0mrun_name\u001b[0m\u001b[0;34m)\u001b[0m\u001b[0;34m\u001b[0m\u001b[0;34m\u001b[0m\u001b[0m\n\u001b[1;32m     13\u001b[0m       \u001b[0mprint\u001b[0m\u001b[0;34m(\u001b[0m\u001b[0;34m{\u001b[0m\u001b[0mh\u001b[0m\u001b[0;34m.\u001b[0m\u001b[0mname\u001b[0m\u001b[0;34m:\u001b[0m \u001b[0mhparams\u001b[0m\u001b[0;34m[\u001b[0m\u001b[0mh\u001b[0m\u001b[0;34m]\u001b[0m \u001b[0;32mfor\u001b[0m \u001b[0mh\u001b[0m \u001b[0;32min\u001b[0m \u001b[0mhparams\u001b[0m\u001b[0;34m}\u001b[0m\u001b[0;34m)\u001b[0m\u001b[0;34m\u001b[0m\u001b[0;34m\u001b[0m\u001b[0m\n\u001b[0;32m---> 14\u001b[0;31m       \u001b[0mrun\u001b[0m\u001b[0;34m(\u001b[0m\u001b[0;34m'logs/hparam_tuning/'\u001b[0m \u001b[0;34m+\u001b[0m \u001b[0mrun_name\u001b[0m\u001b[0;34m,\u001b[0m \u001b[0mhparams\u001b[0m\u001b[0;34m)\u001b[0m\u001b[0;34m\u001b[0m\u001b[0;34m\u001b[0m\u001b[0m\n\u001b[0m\u001b[1;32m     15\u001b[0m       \u001b[0msession_num\u001b[0m \u001b[0;34m+=\u001b[0m \u001b[0;36m1\u001b[0m\u001b[0;34m\u001b[0m\u001b[0;34m\u001b[0m\u001b[0m\n",
            "\u001b[0;32m<ipython-input-43-7179ef6b4886>\u001b[0m in \u001b[0;36mrun\u001b[0;34m(run_dir, hparams)\u001b[0m\n\u001b[1;32m      2\u001b[0m   \u001b[0;32mwith\u001b[0m \u001b[0mtf\u001b[0m\u001b[0;34m.\u001b[0m\u001b[0msummary\u001b[0m\u001b[0;34m.\u001b[0m\u001b[0mcreate_file_writer\u001b[0m\u001b[0;34m(\u001b[0m\u001b[0mrun_dir\u001b[0m\u001b[0;34m)\u001b[0m\u001b[0;34m.\u001b[0m\u001b[0mas_default\u001b[0m\u001b[0;34m(\u001b[0m\u001b[0;34m)\u001b[0m\u001b[0;34m:\u001b[0m\u001b[0;34m\u001b[0m\u001b[0;34m\u001b[0m\u001b[0m\n\u001b[1;32m      3\u001b[0m     \u001b[0mhp\u001b[0m\u001b[0;34m.\u001b[0m\u001b[0mhparams\u001b[0m\u001b[0;34m(\u001b[0m\u001b[0mhparams\u001b[0m\u001b[0;34m)\u001b[0m  \u001b[0;31m# record the values used in this trial\u001b[0m\u001b[0;34m\u001b[0m\u001b[0;34m\u001b[0m\u001b[0m\n\u001b[0;32m----> 4\u001b[0;31m     \u001b[0maccuracy\u001b[0m \u001b[0;34m=\u001b[0m \u001b[0mtrain_test_model\u001b[0m\u001b[0;34m(\u001b[0m\u001b[0mhparams\u001b[0m\u001b[0;34m)\u001b[0m\u001b[0;34m\u001b[0m\u001b[0;34m\u001b[0m\u001b[0m\n\u001b[0m\u001b[1;32m      5\u001b[0m     \u001b[0mtf\u001b[0m\u001b[0;34m.\u001b[0m\u001b[0msummary\u001b[0m\u001b[0;34m.\u001b[0m\u001b[0mscalar\u001b[0m\u001b[0;34m(\u001b[0m\u001b[0mMETRIC_ACCURACY\u001b[0m\u001b[0;34m,\u001b[0m \u001b[0maccuracy\u001b[0m\u001b[0;34m,\u001b[0m \u001b[0mstep\u001b[0m\u001b[0;34m=\u001b[0m\u001b[0;36m50\u001b[0m\u001b[0;34m)\u001b[0m\u001b[0;34m\u001b[0m\u001b[0;34m\u001b[0m\u001b[0m\n",
            "\u001b[0;32m<ipython-input-42-17b261461118>\u001b[0m in \u001b[0;36mtrain_test_model\u001b[0;34m(hparams)\u001b[0m\n\u001b[1;32m     49\u001b[0m \u001b[0;34m\u001b[0m\u001b[0m\n\u001b[1;32m     50\u001b[0m   \u001b[0;31m# model.fit(x_train, y_train, epochs=10)\u001b[0m\u001b[0;34m\u001b[0m\u001b[0;34m\u001b[0m\u001b[0;34m\u001b[0m\u001b[0m\n\u001b[0;32m---> 51\u001b[0;31m   \u001b[0mmodel_hparams\u001b[0m\u001b[0;34m.\u001b[0m\u001b[0mfit\u001b[0m\u001b[0;34m(\u001b[0m\u001b[0mtrain_generator\u001b[0m\u001b[0;34m,\u001b[0m \u001b[0mepochs\u001b[0m\u001b[0;34m=\u001b[0m\u001b[0;36m50\u001b[0m\u001b[0;34m,\u001b[0m \u001b[0mvalidation_data\u001b[0m\u001b[0;34m=\u001b[0m\u001b[0mval_generator\u001b[0m\u001b[0;34m,\u001b[0m \u001b[0mverbose\u001b[0m\u001b[0;34m=\u001b[0m\u001b[0;36m1\u001b[0m\u001b[0;34m)\u001b[0m\u001b[0;34m\u001b[0m\u001b[0;34m\u001b[0m\u001b[0m\n\u001b[0m\u001b[1;32m     52\u001b[0m   \u001b[0m_\u001b[0m\u001b[0;34m,\u001b[0m \u001b[0maccuracy\u001b[0m \u001b[0;34m=\u001b[0m \u001b[0mmodel_hparams\u001b[0m\u001b[0;34m.\u001b[0m\u001b[0mevaluate\u001b[0m\u001b[0;34m(\u001b[0m\u001b[0mx_val\u001b[0m\u001b[0;34m,\u001b[0m \u001b[0my_val\u001b[0m\u001b[0;34m)\u001b[0m\u001b[0;34m\u001b[0m\u001b[0;34m\u001b[0m\u001b[0m\n\u001b[1;32m     53\u001b[0m   \u001b[0;32mreturn\u001b[0m \u001b[0maccuracy\u001b[0m\u001b[0;34m\u001b[0m\u001b[0;34m\u001b[0m\u001b[0m\n",
            "\u001b[0;32m/usr/local/lib/python3.7/dist-packages/keras/utils/traceback_utils.py\u001b[0m in \u001b[0;36merror_handler\u001b[0;34m(*args, **kwargs)\u001b[0m\n\u001b[1;32m     65\u001b[0m     \u001b[0;32mexcept\u001b[0m \u001b[0mException\u001b[0m \u001b[0;32mas\u001b[0m \u001b[0me\u001b[0m\u001b[0;34m:\u001b[0m  \u001b[0;31m# pylint: disable=broad-except\u001b[0m\u001b[0;34m\u001b[0m\u001b[0;34m\u001b[0m\u001b[0m\n\u001b[1;32m     66\u001b[0m       \u001b[0mfiltered_tb\u001b[0m \u001b[0;34m=\u001b[0m \u001b[0m_process_traceback_frames\u001b[0m\u001b[0;34m(\u001b[0m\u001b[0me\u001b[0m\u001b[0;34m.\u001b[0m\u001b[0m__traceback__\u001b[0m\u001b[0;34m)\u001b[0m\u001b[0;34m\u001b[0m\u001b[0;34m\u001b[0m\u001b[0m\n\u001b[0;32m---> 67\u001b[0;31m       \u001b[0;32mraise\u001b[0m \u001b[0me\u001b[0m\u001b[0;34m.\u001b[0m\u001b[0mwith_traceback\u001b[0m\u001b[0;34m(\u001b[0m\u001b[0mfiltered_tb\u001b[0m\u001b[0;34m)\u001b[0m \u001b[0;32mfrom\u001b[0m \u001b[0;32mNone\u001b[0m\u001b[0;34m\u001b[0m\u001b[0;34m\u001b[0m\u001b[0m\n\u001b[0m\u001b[1;32m     68\u001b[0m     \u001b[0;32mfinally\u001b[0m\u001b[0;34m:\u001b[0m\u001b[0;34m\u001b[0m\u001b[0;34m\u001b[0m\u001b[0m\n\u001b[1;32m     69\u001b[0m       \u001b[0;32mdel\u001b[0m \u001b[0mfiltered_tb\u001b[0m\u001b[0;34m\u001b[0m\u001b[0;34m\u001b[0m\u001b[0m\n",
            "\u001b[0;32m/usr/local/lib/python3.7/dist-packages/tensorflow/python/eager/execute.py\u001b[0m in \u001b[0;36mquick_execute\u001b[0;34m(op_name, num_outputs, inputs, attrs, ctx, name)\u001b[0m\n\u001b[1;32m     57\u001b[0m     \u001b[0mctx\u001b[0m\u001b[0;34m.\u001b[0m\u001b[0mensure_initialized\u001b[0m\u001b[0;34m(\u001b[0m\u001b[0;34m)\u001b[0m\u001b[0;34m\u001b[0m\u001b[0;34m\u001b[0m\u001b[0m\n\u001b[1;32m     58\u001b[0m     tensors = pywrap_tfe.TFE_Py_Execute(ctx._handle, device_name, op_name,\n\u001b[0;32m---> 59\u001b[0;31m                                         inputs, attrs, num_outputs)\n\u001b[0m\u001b[1;32m     60\u001b[0m   \u001b[0;32mexcept\u001b[0m \u001b[0mcore\u001b[0m\u001b[0;34m.\u001b[0m\u001b[0m_NotOkStatusException\u001b[0m \u001b[0;32mas\u001b[0m \u001b[0me\u001b[0m\u001b[0;34m:\u001b[0m\u001b[0;34m\u001b[0m\u001b[0;34m\u001b[0m\u001b[0m\n\u001b[1;32m     61\u001b[0m     \u001b[0;32mif\u001b[0m \u001b[0mname\u001b[0m \u001b[0;32mis\u001b[0m \u001b[0;32mnot\u001b[0m \u001b[0;32mNone\u001b[0m\u001b[0;34m:\u001b[0m\u001b[0;34m\u001b[0m\u001b[0;34m\u001b[0m\u001b[0m\n",
            "\u001b[0;31mInvalidArgumentError\u001b[0m:  Matrix size-incompatible: In[0]: [7,5], In[1]: [32,1]\n\t [[node gradient_tape/sequential_2/dense_7/MatMul/MatMul\n (defined at /usr/local/lib/python3.7/dist-packages/keras/optimizer_v2/optimizer_v2.py:464)\n]] [Op:__inference_train_function_77415]\n\nErrors may have originated from an input operation.\nInput Source operations connected to node gradient_tape/sequential_2/dense_7/MatMul/MatMul:\nIn[0] gradient_tape/categorical_crossentropy/softmax_cross_entropy_with_logits/Reshape_1:\t\nIn[1] sequential_2/dense_7/MatMul/ReadVariableOp (defined at /usr/local/lib/python3.7/dist-packages/keras/layers/core/dense.py:199)\n\nOperation defined at: (most recent call last)\n>>>   File \"/usr/lib/python3.7/runpy.py\", line 193, in _run_module_as_main\n>>>     \"__main__\", mod_spec)\n>>> \n>>>   File \"/usr/lib/python3.7/runpy.py\", line 85, in _run_code\n>>>     exec(code, run_globals)\n>>> \n>>>   File \"/usr/local/lib/python3.7/dist-packages/ipykernel_launcher.py\", line 16, in <module>\n>>>     app.launch_new_instance()\n>>> \n>>>   File \"/usr/local/lib/python3.7/dist-packages/traitlets/config/application.py\", line 846, in launch_instance\n>>>     app.start()\n>>> \n>>>   File \"/usr/local/lib/python3.7/dist-packages/ipykernel/kernelapp.py\", line 499, in start\n>>>     self.io_loop.start()\n>>> \n>>>   File \"/usr/local/lib/python3.7/dist-packages/tornado/platform/asyncio.py\", line 132, in start\n>>>     self.asyncio_loop.run_forever()\n>>> \n>>>   File \"/usr/lib/python3.7/asyncio/base_events.py\", line 541, in run_forever\n>>>     self._run_once()\n>>> \n>>>   File \"/usr/lib/python3.7/asyncio/base_events.py\", line 1786, in _run_once\n>>>     handle._run()\n>>> \n>>>   File \"/usr/lib/python3.7/asyncio/events.py\", line 88, in _run\n>>>     self._context.run(self._callback, *self._args)\n>>> \n>>>   File \"/usr/local/lib/python3.7/dist-packages/tornado/ioloop.py\", line 758, in _run_callback\n>>>     ret = callback()\n>>> \n>>>   File \"/usr/local/lib/python3.7/dist-packages/tornado/stack_context.py\", line 300, in null_wrapper\n>>>     return fn(*args, **kwargs)\n>>> \n>>>   File \"/usr/local/lib/python3.7/dist-packages/zmq/eventloop/zmqstream.py\", line 536, in <lambda>\n>>>     self.io_loop.add_callback(lambda: self._handle_events(self.socket, 0))\n>>> \n>>>   File \"/usr/local/lib/python3.7/dist-packages/zmq/eventloop/zmqstream.py\", line 452, in _handle_events\n>>>     self._handle_recv()\n>>> \n>>>   File \"/usr/local/lib/python3.7/dist-packages/zmq/eventloop/zmqstream.py\", line 481, in _handle_recv\n>>>     self._run_callback(callback, msg)\n>>> \n>>>   File \"/usr/local/lib/python3.7/dist-packages/zmq/eventloop/zmqstream.py\", line 431, in _run_callback\n>>>     callback(*args, **kwargs)\n>>> \n>>>   File \"/usr/local/lib/python3.7/dist-packages/tornado/stack_context.py\", line 300, in null_wrapper\n>>>     return fn(*args, **kwargs)\n>>> \n>>>   File \"/usr/local/lib/python3.7/dist-packages/ipykernel/kernelbase.py\", line 283, in dispatcher\n>>>     return self.dispatch_shell(stream, msg)\n>>> \n>>>   File \"/usr/local/lib/python3.7/dist-packages/ipykernel/kernelbase.py\", line 233, in dispatch_shell\n>>>     handler(stream, idents, msg)\n>>> \n>>>   File \"/usr/local/lib/python3.7/dist-packages/ipykernel/kernelbase.py\", line 399, in execute_request\n>>>     user_expressions, allow_stdin)\n>>> \n>>>   File \"/usr/local/lib/python3.7/dist-packages/ipykernel/ipkernel.py\", line 208, in do_execute\n>>>     res = shell.run_cell(code, store_history=store_history, silent=silent)\n>>> \n>>>   File \"/usr/local/lib/python3.7/dist-packages/ipykernel/zmqshell.py\", line 537, in run_cell\n>>>     return super(ZMQInteractiveShell, self).run_cell(*args, **kwargs)\n>>> \n>>>   File \"/usr/local/lib/python3.7/dist-packages/IPython/core/interactiveshell.py\", line 2718, in run_cell\n>>>     interactivity=interactivity, compiler=compiler, result=result)\n>>> \n>>>   File \"/usr/local/lib/python3.7/dist-packages/IPython/core/interactiveshell.py\", line 2822, in run_ast_nodes\n>>>     if self.run_code(code, result):\n>>> \n>>>   File \"/usr/local/lib/python3.7/dist-packages/IPython/core/interactiveshell.py\", line 2882, in run_code\n>>>     exec(code_obj, self.user_global_ns, self.user_ns)\n>>> \n>>>   File \"<ipython-input-45-817954b1c171>\", line 14, in <module>\n>>>     run('logs/hparam_tuning/' + run_name, hparams)\n>>> \n>>>   File \"<ipython-input-43-7179ef6b4886>\", line 4, in run\n>>>     accuracy = train_test_model(hparams)\n>>> \n>>>   File \"<ipython-input-42-17b261461118>\", line 51, in train_test_model\n>>>     model_hparams.fit(train_generator, epochs=50, validation_data=val_generator, verbose=1)\n>>> \n>>>   File \"/usr/local/lib/python3.7/dist-packages/keras/utils/traceback_utils.py\", line 64, in error_handler\n>>>     return fn(*args, **kwargs)\n>>> \n>>>   File \"/usr/local/lib/python3.7/dist-packages/keras/engine/training.py\", line 1216, in fit\n>>>     tmp_logs = self.train_function(iterator)\n>>> \n>>>   File \"/usr/local/lib/python3.7/dist-packages/keras/engine/training.py\", line 878, in train_function\n>>>     return step_function(self, iterator)\n>>> \n>>>   File \"/usr/local/lib/python3.7/dist-packages/keras/engine/training.py\", line 867, in step_function\n>>>     outputs = model.distribute_strategy.run(run_step, args=(data,))\n>>> \n>>>   File \"/usr/local/lib/python3.7/dist-packages/keras/engine/training.py\", line 860, in run_step\n>>>     outputs = model.train_step(data)\n>>> \n>>>   File \"/usr/local/lib/python3.7/dist-packages/keras/engine/training.py\", line 816, in train_step\n>>>     self.optimizer.minimize(loss, self.trainable_variables, tape=tape)\n>>> \n>>>   File \"/usr/local/lib/python3.7/dist-packages/keras/optimizer_v2/optimizer_v2.py\", line 531, in minimize\n>>>     loss, var_list=var_list, grad_loss=grad_loss, tape=tape)\n>>> \n>>>   File \"/usr/local/lib/python3.7/dist-packages/keras/optimizer_v2/optimizer_v2.py\", line 583, in _compute_gradients\n>>>     grads_and_vars = self._get_gradients(tape, loss, var_list, grad_loss)\n>>> \n>>>   File \"/usr/local/lib/python3.7/dist-packages/keras/optimizer_v2/optimizer_v2.py\", line 464, in _get_gradients\n>>>     grads = tape.gradient(loss, var_list, grad_loss)\n>>> "
          ]
        }
      ]
    },
    {
      "cell_type": "code",
      "metadata": {
        "id": "zd8m_JiC5RFd"
      },
      "source": [
        "# import zipfile\n",
        "\n",
        "# hparams_demo_logs = zipfile.ZipFile('hparams_demo_logs.zip', 'r')\n",
        "# hparams_demo_logs.extractall('logs/hparam_demo.zip')\n",
        "\n",
        "# hparams_demo_logs.close()"
      ],
      "execution_count": null,
      "outputs": []
    },
    {
      "cell_type": "code",
      "metadata": {
        "id": "ozoXvQFL5V5_"
      },
      "source": [
        "%%bash\n",
        "wget -q 'https://storage.googleapis.com/download.tensorflow.org/tensorboard/hparams_demo_logs.zip'\n",
        "unzip -q hparams_demo_logs.zip -d logs/hparam_demo"
      ],
      "execution_count": null,
      "outputs": []
    },
    {
      "cell_type": "code",
      "metadata": {
        "id": "jc7PPL_35Z5o"
      },
      "source": [
        "%tensorboard --logdir logs/hparam_tuning"
      ],
      "execution_count": null,
      "outputs": []
    }
  ]
}